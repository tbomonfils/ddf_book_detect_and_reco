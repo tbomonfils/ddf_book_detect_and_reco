{
 "cells": [
  {
   "cell_type": "code",
   "execution_count": 1,
   "id": "noted-authentication",
   "metadata": {},
   "outputs": [],
   "source": [
    "import os"
   ]
  },
  {
   "cell_type": "code",
   "execution_count": 2,
   "id": "listed-optimization",
   "metadata": {},
   "outputs": [
    {
     "data": {
      "text/plain": [
       "'/home/app/dev/notebooks'"
      ]
     },
     "execution_count": 2,
     "metadata": {},
     "output_type": "execute_result"
    }
   ],
   "source": [
    "os.getcwd()"
   ]
  },
  {
   "cell_type": "code",
   "execution_count": 3,
   "id": "aquatic-beatles",
   "metadata": {},
   "outputs": [],
   "source": [
    "os.chdir('../..')"
   ]
  },
  {
   "cell_type": "code",
   "execution_count": 19,
   "id": "complete-ottawa",
   "metadata": {},
   "outputs": [],
   "source": [
    "os.environ['PATH'] += os.pathsep + 'app/build/gcp/google-cloud-sdk/bin/'"
   ]
  },
  {
   "cell_type": "code",
   "execution_count": 20,
   "id": "crucial-evening",
   "metadata": {},
   "outputs": [
    {
     "data": {
      "text/plain": [
       "'/usr/local/sbin:/usr/local/bin:/usr/sbin:/usr/bin:/sbin:/bin:build/gcp/google-cloud-sdk/bin/:app/build/gcp/google-cloud-sdk/bin/'"
      ]
     },
     "execution_count": 20,
     "metadata": {},
     "output_type": "execute_result"
    }
   ],
   "source": [
    "os.environ['PATH']"
   ]
  },
  {
   "cell_type": "code",
   "execution_count": 7,
   "id": "standing-whale",
   "metadata": {},
   "outputs": [
    {
     "name": "stdout",
     "output_type": "stream",
     "text": [
      "Updated property [core/project].\r\n"
     ]
    }
   ],
   "source": [
    "!gcloud config set project evident-factor-306510"
   ]
  },
  {
   "cell_type": "code",
   "execution_count": 8,
   "id": "horizontal-overhead",
   "metadata": {},
   "outputs": [
    {
     "name": "stdout",
     "output_type": "stream",
     "text": [
      "env: GOOGLE_APPLICATION_CREDENTIALS='ressources/My First Project-ad2867fb75b7.json'\n"
     ]
    }
   ],
   "source": [
    "import sys\n",
    "\n",
    "# If you are running this notebook in Colab, run this cell and follow the\n",
    "# instructions to authenticate your GCP account. This provides access to your\n",
    "# Cloud Storage bucket and lets you submit training jobs and prediction\n",
    "# requests.\n",
    "\n",
    "if 'google.colab' in sys.modules:\n",
    "  from google.colab import auth as google_auth\n",
    "  google_auth.authenticate_user()\n",
    "\n",
    "# If you are running this notebook locally, replace the string below with the\n",
    "# path to your service account key and run this cell to authenticate your GCP\n",
    "# account.\n",
    "else:\n",
    "  %env GOOGLE_APPLICATION_CREDENTIALS 'ressources/My First Project-ad2867fb75b7.json'"
   ]
  },
  {
   "cell_type": "code",
   "execution_count": 9,
   "id": "lonely-bangladesh",
   "metadata": {},
   "outputs": [],
   "source": [
    "BUCKET_NAME = \"training_book_covers\" #@param {type:\"string\"}\n",
    "REGION = \"europe-west1\" #@param {type:\"string\"}"
   ]
  },
  {
   "cell_type": "code",
   "execution_count": 10,
   "id": "indie-apple",
   "metadata": {},
   "outputs": [
    {
     "name": "stdout",
     "output_type": "stream",
     "text": [
      "Creating gs://training_book_covers/...\r\n"
     ]
    }
   ],
   "source": [
    "!gsutil mb -l $REGION gs://$BUCKET_NAME"
   ]
  },
  {
   "cell_type": "code",
   "execution_count": 11,
   "id": "elect-cinema",
   "metadata": {},
   "outputs": [],
   "source": [
    "! gsutil ls -al gs://$BUCKET_NAME"
   ]
  },
  {
   "cell_type": "code",
   "execution_count": 12,
   "id": "secure-struggle",
   "metadata": {},
   "outputs": [
    {
     "name": "stdout",
     "output_type": "stream",
     "text": [
      "Updated property [ml_engine/local_python].\n",
      "\n",
      "\n",
      "Updates are available for some Cloud SDK components.  To install them,\n",
      "please run:\n",
      "  $ gcloud components update\n",
      "\n"
     ]
    }
   ],
   "source": [
    "! gcloud config set ml_engine/local_python $(which python3)"
   ]
  },
  {
   "cell_type": "code",
   "execution_count": 31,
   "id": "qualified-defendant",
   "metadata": {},
   "outputs": [
    {
     "name": "stdout",
     "output_type": "stream",
     "text": [
      "2021-03-11 08:54:53.486883: W tensorflow/stream_executor/platform/default/dso_loader.cc:59] Could not load dynamic library 'libcudart.so.10.1'; dlerror: libcudart.so.10.1: cannot open shared object file: No such file or directory\n",
      "2021-03-11 08:54:53.486931: I tensorflow/stream_executor/cuda/cudart_stub.cc:29] Ignore above cudart dlerror if you do not have a GPU set up on your machine.\n",
      "2021-03-11 08:54:54.854134: W tensorflow/stream_executor/platform/default/dso_loader.cc:59] Could not load dynamic library 'libcuda.so.1'; dlerror: libcuda.so.1: cannot open shared object file: No such file or directory\n",
      "2021-03-11 08:54:54.854178: W tensorflow/stream_executor/cuda/cuda_driver.cc:312] failed call to cuInit: UNKNOWN ERROR (303)\n",
      "2021-03-11 08:54:54.854205: I tensorflow/stream_executor/cuda/cuda_diagnostics.cc:156] kernel driver does not appear to be running on this host (ff1d5a7f4741): /proc/driver/nvidia/version does not exist\n",
      "2021-03-11 08:54:54.854404: I tensorflow/core/platform/cpu_feature_guard.cc:142] This TensorFlow binary is optimized with oneAPI Deep Neural Network Library (oneDNN)to use the following CPU instructions in performance-critical operations:  AVX2\n",
      "To enable them in other operations, rebuild TensorFlow with the appropriate compiler flags.\n",
      "2021-03-11 08:54:54.869547: I tensorflow/core/platform/profile_utils/cpu_utils.cc:104] CPU Frequency: 2592000000 Hz\n",
      "2021-03-11 08:54:54.870209: I tensorflow/compiler/xla/service/service.cc:168] XLA service 0x52c7290 initialized for platform Host (this does not guarantee that XLA will be used). Devices:\n",
      "2021-03-11 08:54:54.870281: I tensorflow/compiler/xla/service/service.cc:176]   StreamExecutor device (0): Host, Default Version\n",
      "0 0\n",
      "0 1\n",
      "0 2\n",
      "0 3\n",
      "0 4\n",
      "^C\n"
     ]
    }
   ],
   "source": [
    "! gcloud ai-platform local train \\\n",
    "  --package-path dev \\\n",
    "  --module-name dev.train"
   ]
  },
  {
   "cell_type": "code",
   "execution_count": 34,
   "id": "sensitive-addition",
   "metadata": {},
   "outputs": [],
   "source": [
    "!JOB_NAME=\"my_first_keras_job\"\n",
    "!JOB_DIR=\"gs://$BUCKET_NAME/keras-job-dir\""
   ]
  },
  {
   "cell_type": "code",
   "execution_count": 35,
   "id": "instant-tonight",
   "metadata": {},
   "outputs": [
    {
     "name": "stdout",
     "output_type": "stream",
     "text": [
      "\u001b[1;31mERROR:\u001b[0m (gcloud.ai-platform.jobs.submit.training) argument --job-dir: Must be of form gs://bucket/object\r\n",
      "Usage: gcloud ai-platform jobs submit training JOB [optional flags] [-- USER_ARGS ...]\r\n",
      "  optional flags may be  --async | --config | --help | --job-dir | --kms-key |\r\n",
      "                         --kms-keyring | --kms-location | --kms-project |\r\n",
      "                         --labels | --master-accelerator | --master-image-uri |\r\n",
      "                         --master-machine-type | --module-name |\r\n",
      "                         --package-path | --packages |\r\n",
      "                         --parameter-server-accelerator |\r\n",
      "                         --parameter-server-count |\r\n",
      "                         --parameter-server-image-uri |\r\n",
      "                         --parameter-server-machine-type | --python-version |\r\n",
      "                         --region | --runtime-version | --scale-tier |\r\n",
      "                         --service-account | --staging-bucket | --stream-logs |\r\n",
      "                         --use-chief-in-tf-config | --worker-accelerator |\r\n",
      "                         --worker-count | --worker-image-uri |\r\n",
      "                         --worker-machine-type\r\n",
      "\r\n",
      "For detailed information on this command and its flags, run:\r\n",
      "  gcloud ai-platform jobs submit training --help\r\n"
     ]
    }
   ],
   "source": [
    "!gcloud ai-platform jobs submit training $JOB_NAME \\\n",
    "  --package-path dev/ \\\n",
    "  --module-name dev.train \\\n",
    "  --region $REGION \\\n",
    "  --python-version 3.7 \\\n",
    "  --runtime-version 1.15 \\\n",
    "  --job-dir $JOB_DIR \\\n",
    "  --stream-logs"
   ]
  },
  {
   "cell_type": "code",
   "execution_count": 36,
   "id": "innocent-snapshot",
   "metadata": {},
   "outputs": [
    {
     "name": "stdout",
     "output_type": "stream",
     "text": [
      "training_book_covers\r\n"
     ]
    }
   ],
   "source": [
    "!echo $BUCKET_NAME"
   ]
  },
  {
   "cell_type": "code",
   "execution_count": null,
   "id": "wired-evanescence",
   "metadata": {},
   "outputs": [],
   "source": []
  }
 ],
 "metadata": {
  "kernelspec": {
   "display_name": "Python 3",
   "language": "python",
   "name": "python3"
  },
  "language_info": {
   "codemirror_mode": {
    "name": "ipython",
    "version": 3
   },
   "file_extension": ".py",
   "mimetype": "text/x-python",
   "name": "python",
   "nbconvert_exporter": "python",
   "pygments_lexer": "ipython3",
   "version": "3.7.3"
  }
 },
 "nbformat": 4,
 "nbformat_minor": 5
}
