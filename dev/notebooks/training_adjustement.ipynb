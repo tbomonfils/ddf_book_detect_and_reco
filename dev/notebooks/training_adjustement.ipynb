{
 "cells": [
  {
   "cell_type": "code",
   "execution_count": 1,
   "id": "progressive-bride",
   "metadata": {},
   "outputs": [],
   "source": [
    "import os"
   ]
  },
  {
   "cell_type": "code",
   "execution_count": 2,
   "id": "greenhouse-backup",
   "metadata": {},
   "outputs": [],
   "source": [
    "os.chdir('../..')"
   ]
  },
  {
   "cell_type": "code",
   "execution_count": 3,
   "id": "proof-egyptian",
   "metadata": {},
   "outputs": [],
   "source": [
    "import tensorflow as tf"
   ]
  },
  {
   "cell_type": "code",
   "execution_count": 6,
   "id": "athletic-focus",
   "metadata": {},
   "outputs": [],
   "source": [
    "from dev.python.model_architectures import YoloV4\n",
    "from dev import train as t\n",
    "from dev.python.training import train_model as t_m"
   ]
  },
  {
   "cell_type": "code",
   "execution_count": 11,
   "id": "deluxe-institution",
   "metadata": {},
   "outputs": [],
   "source": [
    "from importlib import reload"
   ]
  },
  {
   "cell_type": "code",
   "execution_count": 12,
   "id": "spectacular-program",
   "metadata": {},
   "outputs": [
    {
     "data": {
      "text/plain": [
       "<module 'dev.python.model_architectures.YoloV4' from '/home/app/dev/python/model_architectures/YoloV4.py'>"
      ]
     },
     "execution_count": 12,
     "metadata": {},
     "output_type": "execute_result"
    }
   ],
   "source": [
    "reload(YoloV4)"
   ]
  },
  {
   "cell_type": "code",
   "execution_count": 8,
   "id": "native-blast",
   "metadata": {},
   "outputs": [
    {
     "data": {
      "text/plain": [
       "(4, 20, '10', '5l')"
      ]
     },
     "execution_count": 8,
     "metadata": {},
     "output_type": "execute_result"
    }
   ],
   "source": [
    "args = t.parse_args(['--epochs', '20', '--batch_size', '4', '--epoch_target', '10', '--head_type', '5l'])\n",
    "args.batch_size, args.epochs, args.epoch_target, args.head_type"
   ]
  },
  {
   "cell_type": "code",
   "execution_count": null,
   "id": "infinite-mediterranean",
   "metadata": {},
   "outputs": [],
   "source": [
    "model = YoloV4.Yolov4_tiny(args)"
   ]
  },
  {
   "cell_type": "code",
   "execution_count": 24,
   "id": "fluid-replication",
   "metadata": {},
   "outputs": [
    {
     "name": "stdout",
     "output_type": "stream",
     "text": [
      "INFO:tensorflow:Assets written to: data/model/TinyYolo_10/assets\n",
      "Epoch 010: Loss: 0.508, Accuracy: 0.000%\n",
      "INFO:tensorflow:Assets written to: data/model/TinyYolo_20/assets\n",
      "Epoch 020: Loss: 0.496, Accuracy: 0.000%\n"
     ]
    }
   ],
   "source": [
    "t_m.train_model(model,\n",
    "                  tf.keras.losses.BinaryCrossentropy(),\n",
    "                  nb_epoch=args.epochs,\n",
    "                  batch_size=args.batch_size,\n",
    "                  optimizer=tf.keras.optimizers.SGD(),\n",
    "                  epoch_target=args.epoch_target,\n",
    "                  scale_batch_label=True)"
   ]
  },
  {
   "cell_type": "code",
   "execution_count": 17,
   "id": "designed-solution",
   "metadata": {},
   "outputs": [],
   "source": [
    "from dev.python.training.losses import MSE_MSLE"
   ]
  },
  {
   "cell_type": "code",
   "execution_count": 25,
   "id": "artificial-service",
   "metadata": {},
   "outputs": [
    {
     "name": "stdout",
     "output_type": "stream",
     "text": [
      "INFO:tensorflow:Assets written to: data/model/TinyYolo_10/assets\n",
      "Epoch 010: Loss: 79201.555, Accuracy: 0.000%\n",
      "INFO:tensorflow:Assets written to: data/model/TinyYolo_20/assets\n",
      "Epoch 020: Loss: 78100.977, Accuracy: 0.000%\n"
     ]
    }
   ],
   "source": [
    "t_m.train_model(model,\n",
    "            MSE_MSLE,\n",
    "            nb_epoch=args.epochs,\n",
    "            batch_size=args.batch_size,\n",
    "            optimizer=tf.keras.optimizers.SGD(),\n",
    "            epoch_target=args.epoch_target,\n",
    "            scale_batch_label=False)"
   ]
  },
  {
   "cell_type": "code",
   "execution_count": null,
   "id": "tribal-advance",
   "metadata": {},
   "outputs": [],
   "source": []
  }
 ],
 "metadata": {
  "kernelspec": {
   "display_name": "Python 3",
   "language": "python",
   "name": "python3"
  },
  "language_info": {
   "codemirror_mode": {
    "name": "ipython",
    "version": 3
   },
   "file_extension": ".py",
   "mimetype": "text/x-python",
   "name": "python",
   "nbconvert_exporter": "python",
   "pygments_lexer": "ipython3",
   "version": "3.7.3"
  }
 },
 "nbformat": 4,
 "nbformat_minor": 5
}
