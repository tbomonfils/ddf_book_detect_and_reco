{
 "cells": [
  {
   "cell_type": "code",
   "execution_count": 1,
   "id": "progressive-bride",
   "metadata": {},
   "outputs": [],
   "source": [
    "import os"
   ]
  },
  {
   "cell_type": "code",
   "execution_count": 2,
   "id": "greenhouse-backup",
   "metadata": {},
   "outputs": [],
   "source": [
    "os.chdir('../..')"
   ]
  },
  {
   "cell_type": "code",
   "execution_count": 38,
   "id": "proof-egyptian",
   "metadata": {},
   "outputs": [],
   "source": [
    "import tensorflow as tf"
   ]
  },
  {
   "cell_type": "code",
   "execution_count": 36,
   "id": "athletic-focus",
   "metadata": {},
   "outputs": [],
   "source": [
    "from dev.python.Yolo import model_architecture as m_a\n",
    "from dev import train as t\n",
    "from dev.python.Yolo import train as train"
   ]
  },
  {
   "cell_type": "code",
   "execution_count": 21,
   "id": "deluxe-institution",
   "metadata": {},
   "outputs": [],
   "source": [
    "from importlib import reload"
   ]
  },
  {
   "cell_type": "code",
   "execution_count": 68,
   "id": "spectacular-program",
   "metadata": {},
   "outputs": [
    {
     "data": {
      "text/plain": [
       "<module 'dev.python.Yolo.train' from '/home/app/dev/python/Yolo/train.py'>"
      ]
     },
     "execution_count": 68,
     "metadata": {},
     "output_type": "execute_result"
    }
   ],
   "source": [
    "reload(train)"
   ]
  },
  {
   "cell_type": "code",
   "execution_count": 34,
   "id": "native-blast",
   "metadata": {},
   "outputs": [
    {
     "data": {
      "text/plain": [
       "(4, 20, '10')"
      ]
     },
     "execution_count": 34,
     "metadata": {},
     "output_type": "execute_result"
    }
   ],
   "source": [
    "args = t.parse_args(['--epochs', '20', '--batch_size', '4', '--epoch_target', '10'])\n",
    "args.batch_size, args.epochs, args.epoch_target"
   ]
  },
  {
   "cell_type": "code",
   "execution_count": 35,
   "id": "infinite-mediterranean",
   "metadata": {},
   "outputs": [],
   "source": [
    "model = m_a.Yolov4_tiny(args, training=True)"
   ]
  },
  {
   "cell_type": "code",
   "execution_count": 69,
   "id": "fluid-replication",
   "metadata": {},
   "outputs": [
    {
     "name": "stdout",
     "output_type": "stream",
     "text": [
      "INFO:tensorflow:Assets written to: data/model/TinyYolo_10/assets\n",
      "Epoch 010: Loss: 0.526, Accuracy: 52.191%\n",
      "INFO:tensorflow:Assets written to: data/model/TinyYolo_20/assets\n",
      "Epoch 020: Loss: 0.505, Accuracy: 49.664%\n"
     ]
    },
    {
     "ename": "OSError",
     "evalue": "[Errno 39] Directory not empty: 'data/model/TinyYolo_10'",
     "output_type": "error",
     "traceback": [
      "\u001b[0;31m---------------------------------------------------------------------------\u001b[0m",
      "\u001b[0;31mOSError\u001b[0m                                   Traceback (most recent call last)",
      "\u001b[0;32m<ipython-input-69-f4eda696c470>\u001b[0m in \u001b[0;36m<module>\u001b[0;34m\u001b[0m\n\u001b[1;32m      3\u001b[0m                   \u001b[0mnb_epoch\u001b[0m\u001b[0;34m=\u001b[0m\u001b[0margs\u001b[0m\u001b[0;34m.\u001b[0m\u001b[0mepochs\u001b[0m\u001b[0;34m,\u001b[0m\u001b[0;34m\u001b[0m\u001b[0;34m\u001b[0m\u001b[0m\n\u001b[1;32m      4\u001b[0m                   \u001b[0mbatch_size\u001b[0m\u001b[0;34m=\u001b[0m\u001b[0margs\u001b[0m\u001b[0;34m.\u001b[0m\u001b[0mbatch_size\u001b[0m\u001b[0;34m,\u001b[0m\u001b[0;34m\u001b[0m\u001b[0;34m\u001b[0m\u001b[0m\n\u001b[0;32m----> 5\u001b[0;31m                   epoch_target=args.epoch_target)\n\u001b[0m",
      "\u001b[0;32m/home/app/dev/python/Yolo/train.py\u001b[0m in \u001b[0;36mtrain_model\u001b[0;34m(model, loss, nb_epoch, batch_size, epoch_target, input_dir, output_dir, breakdown_ratio)\u001b[0m\n\u001b[1;32m     99\u001b[0m                                                                 epoch_accuracy.result()))\n\u001b[1;32m    100\u001b[0m                         \u001b[0;32mif\u001b[0m \u001b[0mos\u001b[0m\u001b[0;34m.\u001b[0m\u001b[0mpath\u001b[0m\u001b[0;34m.\u001b[0m\u001b[0mexists\u001b[0m\u001b[0;34m(\u001b[0m\u001b[0;34m'data/model/'\u001b[0m\u001b[0;34m+\u001b[0m\u001b[0;34m'TinyYolo_%s'\u001b[0m\u001b[0;34m%\u001b[0m\u001b[0;34m(\u001b[0m\u001b[0;34m(\u001b[0m\u001b[0mepoch\u001b[0m\u001b[0;34m+\u001b[0m\u001b[0;36m1\u001b[0m\u001b[0;34m)\u001b[0m\u001b[0;34m-\u001b[0m\u001b[0;36m10\u001b[0m\u001b[0;34m)\u001b[0m\u001b[0;34m)\u001b[0m\u001b[0;34m:\u001b[0m\u001b[0;34m\u001b[0m\u001b[0;34m\u001b[0m\u001b[0m\n\u001b[0;32m--> 101\u001b[0;31m                                 \u001b[0mos\u001b[0m\u001b[0;34m.\u001b[0m\u001b[0mrmdir\u001b[0m\u001b[0;34m(\u001b[0m\u001b[0;34m'data/model/'\u001b[0m\u001b[0;34m+\u001b[0m\u001b[0;34m'TinyYolo_%s'\u001b[0m\u001b[0;34m%\u001b[0m\u001b[0;34m(\u001b[0m\u001b[0;34m(\u001b[0m\u001b[0mepoch\u001b[0m\u001b[0;34m+\u001b[0m\u001b[0;36m1\u001b[0m\u001b[0;34m)\u001b[0m\u001b[0;34m-\u001b[0m\u001b[0;36m10\u001b[0m\u001b[0;34m)\u001b[0m\u001b[0;34m)\u001b[0m\u001b[0;34m\u001b[0m\u001b[0;34m\u001b[0m\u001b[0m\n\u001b[0m\u001b[1;32m    102\u001b[0m \u001b[0;34m\u001b[0m\u001b[0m\n\u001b[1;32m    103\u001b[0m \u001b[0;32mif\u001b[0m \u001b[0m__name__\u001b[0m \u001b[0;34m==\u001b[0m \u001b[0;34m\"__main__\"\u001b[0m\u001b[0;34m:\u001b[0m\u001b[0;34m\u001b[0m\u001b[0;34m\u001b[0m\u001b[0m\n",
      "\u001b[0;31mOSError\u001b[0m: [Errno 39] Directory not empty: 'data/model/TinyYolo_10'"
     ]
    }
   ],
   "source": [
    "train.train_model(model,\n",
    "                  tf.keras.losses.BinaryCrossentropy(),\n",
    "                  nb_epoch=args.epochs,\n",
    "                  batch_size=args.batch_size,\n",
    "                  epoch_target=args.epoch_target)"
   ]
  },
  {
   "cell_type": "code",
   "execution_count": null,
   "id": "tribal-advance",
   "metadata": {},
   "outputs": [],
   "source": []
  }
 ],
 "metadata": {
  "kernelspec": {
   "display_name": "Python 3",
   "language": "python",
   "name": "python3"
  },
  "language_info": {
   "codemirror_mode": {
    "name": "ipython",
    "version": 3
   },
   "file_extension": ".py",
   "mimetype": "text/x-python",
   "name": "python",
   "nbconvert_exporter": "python",
   "pygments_lexer": "ipython3",
   "version": "3.7.3"
  }
 },
 "nbformat": 4,
 "nbformat_minor": 5
}
